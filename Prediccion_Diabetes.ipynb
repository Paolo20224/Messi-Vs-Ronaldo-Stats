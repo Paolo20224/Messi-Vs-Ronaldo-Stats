{
  "nbformat": 4,
  "nbformat_minor": 0,
  "metadata": {
    "colab": {
      "name": "Prediccion_Diabetes.ipynb",
      "provenance": [],
      "authorship_tag": "ABX9TyM37v5mehuXh12/XZ5ES3Eh",
      "include_colab_link": true
    },
    "kernelspec": {
      "name": "python3",
      "display_name": "Python 3"
    },
    "language_info": {
      "name": "python"
    }
  },
  "cells": [
    {
      "cell_type": "markdown",
      "metadata": {
        "id": "view-in-github",
        "colab_type": "text"
      },
      "source": [
        "<a href=\"https://colab.research.google.com/github/Paolo20224/Messi-Vs-Ronaldo-Stats/blob/main/Prediccion_Diabetes.ipynb\" target=\"_parent\"><img src=\"https://colab.research.google.com/assets/colab-badge.svg\" alt=\"Open In Colab\"/></a>"
      ]
    },
    {
      "cell_type": "code",
      "execution_count": null,
      "metadata": {
        "id": "OZQLzDObikP1"
      },
      "outputs": [],
      "source": [
        "#Iniciamos el análisis de nuestro Dataframe, incorporando nuestra información bruta en Colab\n",
        "import pandas as pd\n",
        "filename = \"/content/diabetes.csv\"\n",
        "df = pd.read_csv(filename) "
      ]
    }
  ]
}